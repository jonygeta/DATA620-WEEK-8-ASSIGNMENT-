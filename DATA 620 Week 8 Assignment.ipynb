{
 "cells": [
  {
   "cell_type": "code",
   "execution_count": 3,
   "metadata": {},
   "outputs": [
    {
     "name": "stdout",
     "output_type": "stream",
     "text": [
      "[nltk_data] Downloading package gutenberg to C:\\Users\\Md Rana\n",
      "[nltk_data]     Mahmud\\AppData\\Roaming\\nltk_data...\n",
      "[nltk_data]   Unzipping corpora\\gutenberg.zip.\n"
     ]
    }
   ],
   "source": [
    "import nltk\n",
    "import pandas as pd\n",
    "from nltk.corpus import gutenberg\n",
    "nltk.download('gutenberg')\n",
    "nltk.download('punkt')\n",
    "nltk.download('stopwords')"
   ]
  },
  {
   "cell_type": "code",
   "execution_count": 95,
   "metadata": {},
   "outputs": [],
   "source": [
    "extra_abbreviations = ['i','dr', 'vs', 'mr', 'mrs','miss', 'prof', 'inc', 'i.e']"
   ]
  },
  {
   "cell_type": "markdown",
   "metadata": {},
   "source": [
    "1.Choose a corpus of interest."
   ]
  },
  {
   "cell_type": "code",
   "execution_count": 96,
   "metadata": {
    "scrolled": true
   },
   "outputs": [],
   "source": [
    "emma = gutenberg.words('austen-emma.txt')"
   ]
  },
  {
   "cell_type": "markdown",
   "metadata": {},
   "source": [
    "2.How many total unique words are in the corpus?  (Please feel free to define unique words in any interesting, defensible way)."
   ]
  },
  {
   "cell_type": "code",
   "execution_count": 97,
   "metadata": {},
   "outputs": [],
   "source": [
    "# clean the text"
   ]
  },
  {
   "cell_type": "code",
   "execution_count": 98,
   "metadata": {},
   "outputs": [
    {
     "data": {
      "text/plain": [
       "['jane',\n",
       " 'austen',\n",
       " 'volume',\n",
       " 'chapter',\n",
       " 'emma',\n",
       " 'woodhouse',\n",
       " 'handsome',\n",
       " 'clever',\n",
       " 'rich']"
      ]
     },
     "execution_count": 98,
     "metadata": {},
     "output_type": "execute_result"
    }
   ],
   "source": [
    "# Remove puncatuation \n",
    "words = [word for word in emma if word.isalpha()]\n",
    "# Remove stepwords\n",
    "words = [w.lower() for w in words if w not in stopwords]\n",
    "words = [w.lower() for w in words if w not in extra_abbreviations]\n",
    "words[1:10]"
   ]
  },
  {
   "cell_type": "code",
   "execution_count": 99,
   "metadata": {},
   "outputs": [
    {
     "name": "stdout",
     "output_type": "stream",
     "text": [
      "7040\n"
     ]
    }
   ],
   "source": [
    "count_emma = set(words)\n",
    "print(len(count_emma))"
   ]
  },
  {
   "cell_type": "markdown",
   "metadata": {},
   "source": [
    "There are 7040 unique words in the corpus."
   ]
  },
  {
   "cell_type": "markdown",
   "metadata": {},
   "source": [
    "3.Taking the most common words, how many unique words represent half of the total words in the corpus?Identify the 200 highest frequency words in this corpus."
   ]
  },
  {
   "cell_type": "code",
   "execution_count": 100,
   "metadata": {},
   "outputs": [
    {
     "data": {
      "image/png": "[encoded data removed]",
      "text/plain": [
       "<Figure size 432x288 with 1 Axes>"
      ]
     },
     "metadata": {},
     "output_type": "display_data"
    }
   ],
   "source": [
    "emma_freq_dist = nltk.FreqDist(words)\n",
    "emma_freq_dist\n",
    "%matplotlib inline\n",
    "emma_freq_dist.plot(30,cumulative=True)"
   ]
  },
  {
   "cell_type": "code",
   "execution_count": 101,
   "metadata": {},
   "outputs": [
    {
     "name": "stdout",
     "output_type": "stream",
     "text": [
      "emma 865\n",
      "could 837\n",
      "would 820\n",
      "must 567\n",
      "she 562\n",
      "harriet 506\n",
      "much 486\n",
      "said 484\n",
      "one 452\n",
      "he 441\n",
      "weston 440\n",
      "every 435\n",
      "well 401\n",
      "it 400\n",
      "thing 398\n",
      "knightley 389\n",
      "elton 385\n",
      "think 383\n",
      "little 359\n",
      "never 358\n",
      "good 358\n",
      "the 357\n",
      "know 337\n",
      "might 326\n",
      "woodhouse 313\n",
      "say 310\n",
      "you 303\n",
      "jane 301\n",
      "but 293\n",
      "quite 282\n",
      "time 279\n",
      "great 264\n",
      "nothing 256\n",
      "dear 241\n",
      "fairfax 241\n",
      "always 238\n",
      "man 235\n",
      "thought 226\n",
      "soon 224\n",
      "and 224\n",
      "churchill 224\n",
      "see 222\n",
      "may 221\n",
      "shall 217\n",
      "without 214\n",
      "first 209\n",
      "frank 208\n",
      "father 207\n",
      "sure 204\n",
      "indeed 202\n",
      "like 200\n",
      "made 199\n",
      "body 193\n",
      "ever 193\n",
      "oh 193\n",
      "day 192\n",
      "young 192\n",
      "two 178\n",
      "friend 177\n",
      "though 177\n",
      "better 173\n",
      "come 172\n",
      "hartfield 160\n",
      "give 159\n",
      "upon 159\n",
      "way 155\n",
      "really 153\n",
      "make 152\n",
      "they 148\n",
      "bates 148\n",
      "long 146\n",
      "rather 146\n",
      "us 145\n",
      "hope 143\n",
      "done 142\n",
      "cannot 142\n",
      "seemed 141\n",
      "away 138\n",
      "many 138\n",
      "poor 136\n",
      "wish 135\n",
      "even 132\n",
      "go 132\n",
      "woman 131\n",
      "however 131\n",
      "home 130\n",
      "there 129\n",
      "enough 129\n",
      "mind 128\n",
      "no 126\n",
      "happy 125\n",
      "a 125\n",
      "highbury 125\n",
      "yes 125\n",
      "look 121\n",
      "going 120\n",
      "heard 120\n",
      "moment 120\n",
      "came 119\n",
      "last 119\n",
      "take 119\n",
      "half 118\n",
      "love 117\n",
      "room 117\n",
      "pleasure 115\n",
      "still 115\n",
      "another 114\n",
      "felt 113\n",
      "something 113\n",
      "sort 112\n",
      "morning 111\n",
      "if 110\n",
      "yet 109\n",
      "my 109\n",
      "letter 109\n",
      "how 108\n",
      "this 108\n",
      "saw 108\n",
      "till 102\n",
      "what 102\n",
      "believe 102\n",
      "feelings 102\n",
      "certainly 101\n",
      "idea 100\n",
      "hear 100\n",
      "speak 99\n",
      "perhaps 99\n",
      "doubt 98\n",
      "subject 97\n",
      "evening 96\n",
      "party 96\n",
      "house 95\n",
      "people 95\n",
      "feel 95\n",
      "ought 95\n",
      "word 94\n",
      "place 93\n",
      "deal 92\n",
      "right 92\n",
      "found 92\n",
      "looked 91\n",
      "often 91\n",
      "want 90\n",
      "randalls 90\n",
      "let 90\n",
      "john 90\n",
      "present 89\n",
      "coming 89\n",
      "we 89\n",
      "smith 89\n",
      "her 88\n",
      "almost 88\n",
      "knew 88\n",
      "visit 86\n",
      "best 85\n",
      "old 85\n",
      "martin 85\n",
      "least 85\n",
      "possible 84\n",
      "hour 83\n",
      "kind 82\n",
      "friends 82\n",
      "world 81\n",
      "together 81\n",
      "suppose 81\n",
      "cried 81\n",
      "gone 80\n",
      "life 80\n",
      "else 80\n",
      "perry 80\n",
      "replied 79\n",
      "told 78\n",
      "family 77\n",
      "tell 77\n",
      "given 77\n",
      "happiness 76\n",
      "obliged 76\n",
      "that 76\n",
      "whole 76\n",
      "find 75\n",
      "manner 75\n",
      "wanted 75\n",
      "nobody 73\n",
      "seen 73\n",
      "lady 73\n",
      "ill 73\n",
      "mother 72\n",
      "able 72\n",
      "three 72\n",
      "hardly 71\n",
      "opinion 71\n",
      "side 71\n",
      "short 70\n",
      "part 70\n",
      "far 70\n",
      "immediately 70\n",
      "in 70\n",
      "isabella 69\n",
      "carriage 69\n",
      "looking 69\n"
     ]
    }
   ],
   "source": [
    "for key,value in emma_freq_dist.most_common(200):\n",
    "    print(key,value)"
   ]
  },
  {
   "cell_type": "markdown",
   "metadata": {},
   "source": [
    "5 common word represents 50% of the total words in the corpus"
   ]
  },
  {
   "cell_type": "markdown",
   "metadata": {},
   "source": [
    "# Most common 200 words"
   ]
  },
  {
   "cell_type": "code",
   "execution_count": 103,
   "metadata": {},
   "outputs": [
    {
     "name": "stdout",
     "output_type": "stream",
     "text": [
      "emma\n",
      "could\n",
      "would\n",
      "must\n",
      "she\n",
      "harriet\n",
      "much\n",
      "said\n",
      "one\n",
      "he\n",
      "weston\n",
      "every\n",
      "well\n",
      "it\n",
      "thing\n",
      "knightley\n",
      "elton\n",
      "think\n",
      "little\n",
      "never\n",
      "good\n",
      "the\n",
      "know\n",
      "might\n",
      "woodhouse\n",
      "say\n",
      "you\n",
      "jane\n",
      "but\n",
      "quite\n",
      "time\n",
      "great\n",
      "nothing\n",
      "dear\n",
      "fairfax\n",
      "always\n",
      "man\n",
      "thought\n",
      "soon\n",
      "and\n",
      "churchill\n",
      "see\n",
      "may\n",
      "shall\n",
      "without\n",
      "first\n",
      "frank\n",
      "father\n",
      "sure\n",
      "indeed\n",
      "like\n",
      "made\n",
      "body\n",
      "ever\n",
      "oh\n",
      "day\n",
      "young\n",
      "two\n",
      "friend\n",
      "though\n",
      "better\n",
      "come\n",
      "hartfield\n",
      "give\n",
      "upon\n",
      "way\n",
      "really\n",
      "make\n",
      "they\n",
      "bates\n",
      "long\n",
      "rather\n",
      "us\n",
      "hope\n",
      "done\n",
      "cannot\n",
      "seemed\n",
      "away\n",
      "many\n",
      "poor\n",
      "wish\n",
      "even\n",
      "go\n",
      "woman\n",
      "however\n",
      "home\n",
      "there\n",
      "enough\n",
      "mind\n",
      "no\n",
      "happy\n",
      "a\n",
      "highbury\n",
      "yes\n",
      "look\n",
      "going\n",
      "heard\n",
      "moment\n",
      "came\n",
      "last\n",
      "take\n",
      "half\n",
      "love\n",
      "room\n",
      "pleasure\n",
      "still\n",
      "another\n",
      "felt\n",
      "something\n",
      "sort\n",
      "morning\n",
      "if\n",
      "yet\n",
      "my\n",
      "letter\n",
      "how\n",
      "this\n",
      "saw\n",
      "till\n",
      "what\n",
      "believe\n",
      "feelings\n",
      "certainly\n",
      "idea\n",
      "hear\n",
      "speak\n",
      "perhaps\n",
      "doubt\n",
      "subject\n",
      "evening\n",
      "party\n",
      "house\n",
      "people\n",
      "feel\n",
      "ought\n",
      "word\n",
      "place\n",
      "deal\n",
      "right\n",
      "found\n",
      "looked\n",
      "often\n",
      "want\n",
      "randalls\n",
      "let\n",
      "john\n",
      "present\n",
      "coming\n",
      "we\n",
      "smith\n",
      "her\n",
      "almost\n",
      "knew\n",
      "visit\n",
      "best\n",
      "old\n",
      "martin\n",
      "least\n",
      "possible\n",
      "hour\n",
      "kind\n",
      "friends\n",
      "world\n",
      "together\n",
      "suppose\n",
      "cried\n",
      "gone\n",
      "life\n",
      "else\n",
      "perry\n",
      "replied\n",
      "told\n",
      "family\n",
      "tell\n",
      "given\n",
      "happiness\n",
      "obliged\n",
      "that\n",
      "whole\n",
      "find\n",
      "manner\n",
      "wanted\n",
      "nobody\n",
      "seen\n",
      "lady\n",
      "ill\n",
      "mother\n",
      "able\n",
      "three\n",
      "hardly\n",
      "opinion\n",
      "side\n",
      "short\n",
      "part\n",
      "far\n",
      "immediately\n",
      "in\n",
      "isabella\n",
      "carriage\n",
      "looking\n"
     ]
    }
   ],
   "source": [
    "for key,value in emma_freq_dist.most_common(200):\n",
    "    print(key)"
   ]
  },
  {
   "cell_type": "markdown",
   "metadata": {},
   "source": [
    "4.Create a graph that shows the relative frequency of these 200 words."
   ]
  },
  {
   "cell_type": "code",
   "execution_count": 73,
   "metadata": {},
   "outputs": [],
   "source": [
    "df = pd.DataFrame(emma_freq_dist.most_common(200))"
   ]
  },
  {
   "cell_type": "code",
   "execution_count": 104,
   "metadata": {},
   "outputs": [
    {
     "data": {
      "text/html": [
       "<div>\n",
       "<style scoped>\n",
       "    .dataframe tbody tr th:only-of-type {\n",
       "        vertical-align: middle;\n",
       "    }\n",
       "\n",
       "    .dataframe tbody tr th {\n",
       "        vertical-align: top;\n",
       "    }\n",
       "\n",
       "    .dataframe thead th {\n",
       "        text-align: right;\n",
       "    }\n",
       "</style>\n",
       "<table border=\"1\" class=\"dataframe\">\n",
       "  <thead>\n",
       "    <tr style=\"text-align: right;\">\n",
       "      <th></th>\n",
       "      <th>index</th>\n",
       "      <th>0</th>\n",
       "      <th>1</th>\n",
       "      <th>freq</th>\n",
       "    </tr>\n",
       "  </thead>\n",
       "  <tbody>\n",
       "    <tr>\n",
       "      <th>0</th>\n",
       "      <td>0</td>\n",
       "      <td>i</td>\n",
       "      <td>3178</td>\n",
       "      <td>0.080684</td>\n",
       "    </tr>\n",
       "    <tr>\n",
       "      <th>1</th>\n",
       "      <td>1</td>\n",
       "      <td>mr</td>\n",
       "      <td>1153</td>\n",
       "      <td>0.029273</td>\n",
       "    </tr>\n",
       "    <tr>\n",
       "      <th>2</th>\n",
       "      <td>2</td>\n",
       "      <td>emma</td>\n",
       "      <td>865</td>\n",
       "      <td>0.021961</td>\n",
       "    </tr>\n",
       "    <tr>\n",
       "      <th>3</th>\n",
       "      <td>3</td>\n",
       "      <td>could</td>\n",
       "      <td>837</td>\n",
       "      <td>0.021250</td>\n",
       "    </tr>\n",
       "    <tr>\n",
       "      <th>4</th>\n",
       "      <td>4</td>\n",
       "      <td>would</td>\n",
       "      <td>820</td>\n",
       "      <td>0.020819</td>\n",
       "    </tr>\n",
       "  </tbody>\n",
       "</table>\n",
       "</div>"
      ],
      "text/plain": [
       "   index      0     1      freq\n",
       "0      0      i  3178  0.080684\n",
       "1      1     mr  1153  0.029273\n",
       "2      2   emma   865  0.021961\n",
       "3      3  could   837  0.021250\n",
       "4      4  would   820  0.020819"
      ]
     },
     "execution_count": 104,
     "metadata": {},
     "output_type": "execute_result"
    }
   ],
   "source": [
    "df.head()"
   ]
  },
  {
   "cell_type": "code",
   "execution_count": 105,
   "metadata": {},
   "outputs": [],
   "source": [
    "# Calcualte relative frequency\n",
    "df['freq'] = df[1]/df[1].sum()"
   ]
  },
  {
   "cell_type": "code",
   "execution_count": 106,
   "metadata": {},
   "outputs": [],
   "source": [
    "df.reset_index(inplace=True)"
   ]
  },
  {
   "cell_type": "code",
   "execution_count": 107,
   "metadata": {},
   "outputs": [
    {
     "data": {
      "text/html": [
       "<div>\n",
       "<style scoped>\n",
       "    .dataframe tbody tr th:only-of-type {\n",
       "        vertical-align: middle;\n",
       "    }\n",
       "\n",
       "    .dataframe tbody tr th {\n",
       "        vertical-align: top;\n",
       "    }\n",
       "\n",
       "    .dataframe thead th {\n",
       "        text-align: right;\n",
       "    }\n",
       "</style>\n",
       "<table border=\"1\" class=\"dataframe\">\n",
       "  <thead>\n",
       "    <tr style=\"text-align: right;\">\n",
       "      <th></th>\n",
       "      <th>level_0</th>\n",
       "      <th>index</th>\n",
       "      <th>0</th>\n",
       "      <th>1</th>\n",
       "      <th>freq</th>\n",
       "    </tr>\n",
       "  </thead>\n",
       "  <tbody>\n",
       "    <tr>\n",
       "      <th>0</th>\n",
       "      <td>0</td>\n",
       "      <td>0</td>\n",
       "      <td>i</td>\n",
       "      <td>3178</td>\n",
       "      <td>0.080684</td>\n",
       "    </tr>\n",
       "    <tr>\n",
       "      <th>1</th>\n",
       "      <td>1</td>\n",
       "      <td>1</td>\n",
       "      <td>mr</td>\n",
       "      <td>1153</td>\n",
       "      <td>0.029273</td>\n",
       "    </tr>\n",
       "    <tr>\n",
       "      <th>2</th>\n",
       "      <td>2</td>\n",
       "      <td>2</td>\n",
       "      <td>emma</td>\n",
       "      <td>865</td>\n",
       "      <td>0.021961</td>\n",
       "    </tr>\n",
       "    <tr>\n",
       "      <th>3</th>\n",
       "      <td>3</td>\n",
       "      <td>3</td>\n",
       "      <td>could</td>\n",
       "      <td>837</td>\n",
       "      <td>0.021250</td>\n",
       "    </tr>\n",
       "    <tr>\n",
       "      <th>4</th>\n",
       "      <td>4</td>\n",
       "      <td>4</td>\n",
       "      <td>would</td>\n",
       "      <td>820</td>\n",
       "      <td>0.020819</td>\n",
       "    </tr>\n",
       "  </tbody>\n",
       "</table>\n",
       "</div>"
      ],
      "text/plain": [
       "   level_0  index      0     1      freq\n",
       "0        0      0      i  3178  0.080684\n",
       "1        1      1     mr  1153  0.029273\n",
       "2        2      2   emma   865  0.021961\n",
       "3        3      3  could   837  0.021250\n",
       "4        4      4  would   820  0.020819"
      ]
     },
     "execution_count": 107,
     "metadata": {},
     "output_type": "execute_result"
    }
   ],
   "source": [
    "df.head()"
   ]
  },
  {
   "cell_type": "code",
   "execution_count": 108,
   "metadata": {},
   "outputs": [
    {
     "data": {
      "text/plain": [
       "<matplotlib.axes._subplots.AxesSubplot at 0x23f9fa4f748>"
      ]
     },
     "execution_count": 108,
     "metadata": {},
     "output_type": "execute_result"
    },
    {
     "data": {
      "image/png": "[encoded data removed]",
      "text/plain": [
       "<Figure size 432x288 with 1 Axes>"
      ]
     },
     "metadata": {},
     "output_type": "display_data"
    }
   ],
   "source": [
    "df['freq'].plot()"
   ]
  },
  {
   "cell_type": "markdown",
   "metadata": {},
   "source": [
    "5.Does the observed relative frequency of these words follow Zipf’s law? Explain."
   ]
  },
  {
   "cell_type": "markdown",
   "metadata": {},
   "source": [
    "The pbserved relative frequency follow Zip's law.The frequency of the most common words type is inversely\n",
    "proportional to its rank. For example, the 50th\n",
    "most common word type occurs three times as frequently as the 150th most\n",
    "common word type."
   ]
  },
  {
   "cell_type": "markdown",
   "metadata": {},
   "source": [
    "6.In what ways do you think the frequency of the words in this corpus differ from “all words in all corpora.”"
   ]
  },
  {
   "cell_type": "markdown",
   "metadata": {},
   "source": [
    "The frequency of the corpus differes from the frequency in allwords in all corpora because this corpus frequency distribution is different from other corpuses."
   ]
  }
 ],
 "metadata": {
  "kernelspec": {
   "display_name": "Python 3",
   "language": "python",
   "name": "python3"
  },
  "language_info": {
   "codemirror_mode": {
    "name": "ipython",
    "version": 3
   },
   "file_extension": ".py",
   "mimetype": "text/x-python",
   "name": "python",
   "nbconvert_exporter": "python",
   "pygments_lexer": "ipython3",
   "version": "3.6.5"
  }
 },
 "nbformat": 4,
 "nbformat_minor": 2
}
